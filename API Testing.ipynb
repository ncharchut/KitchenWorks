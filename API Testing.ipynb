{
 "cells": [
  {
   "cell_type": "code",
   "execution_count": 1,
   "metadata": {},
   "outputs": [],
   "source": [
    "from googlesheetrequest import GSheetsRequest\n",
    "from files import names, tasks"
   ]
  },
  {
   "cell_type": "code",
   "execution_count": 2,
   "metadata": {},
   "outputs": [
    {
     "name": "stdout",
     "output_type": "stream",
     "text": [
      "here 1\n",
      "here 2\n"
     ]
    }
   ],
   "source": [
    "editors = [\"nicholas.charchut@gmail.com\", \"sweeney.connorj@gmail.com\"]\n",
    "spreadsheetId = \"1vMFRfLKJV2hJv1KW2KgP52Ltv6-g8MzCL0sNyt9pApM\"\n",
    "gsheets = GSheetsRequest(editors, names, tasks, spreadsheetId)"
   ]
  },
  {
   "cell_type": "code",
   "execution_count": 4,
   "metadata": {
    "scrolled": true
   },
   "outputs": [
    {
     "name": "stdout",
     "output_type": "stream",
     "text": [
      "All tasks added.\n"
     ]
    }
   ],
   "source": [
    "gsheets.new_week()\n",
    "gsheets.full_send()"
   ]
  },
  {
   "cell_type": "code",
   "execution_count": null,
   "metadata": {},
   "outputs": [],
   "source": []
  }
 ],
 "metadata": {
  "kernelspec": {
   "display_name": "Python 3",
   "language": "python",
   "name": "python3"
  },
  "language_info": {
   "codemirror_mode": {
    "name": "ipython",
    "version": 3
   },
   "file_extension": ".py",
   "mimetype": "text/x-python",
   "name": "python",
   "nbconvert_exporter": "python",
   "pygments_lexer": "ipython3",
   "version": "3.6.5"
  }
 },
 "nbformat": 4,
 "nbformat_minor": 2
}
