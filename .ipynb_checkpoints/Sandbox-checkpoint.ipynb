{
 "cells": [
  {
   "cell_type": "code",
   "execution_count": 1,
   "metadata": {},
   "outputs": [],
   "source": [
    "from gsheets_time import Month, Week, Day, DayTask\n",
    "from task import TaskManager\n",
    "from pprint import pprint"
   ]
  },
  {
   "cell_type": "code",
   "execution_count": 2,
   "metadata": {},
   "outputs": [],
   "source": [
    "names = \"names.csv\"\n",
    "tasks = \"tasks.csv\"\n",
    "editors = [\"Nicholas Charchut\", \"Connor Sweeney\"]\n",
    "sheet_id = \"abc123\"\n",
    "sheet_name = \"TEST\""
   ]
  },
  {
   "cell_type": "code",
   "execution_count": 3,
   "metadata": {},
   "outputs": [
    {
     "name": "stdout",
     "output_type": "stream",
     "text": [
      "All tasks added.\n",
      "[[{'userEnteredFormat': {'backgroundColor': {'red': 0, 'blue': 0, 'green': 0}}}, {'userEnteredFormat': {'backgroundColor': {'red': 0, 'blue': 0, 'green': 0}}}, {'userEnteredFormat': {'backgroundColor': {'red': 0, 'blue': 0, 'green': 0}}}, {'userEnteredFormat': {'backgroundColor': {'red': 0, 'blue': 0, 'green': 0}}}, {'userEnteredFormat': {'backgroundColor': {'red': 0, 'blue': 0, 'green': 0}}}, {'userEnteredFormat': {'backgroundColor': {'red': 0, 'blue': 0, 'green': 0}}}, {'userEnteredFormat': {'backgroundColor': {'red': 0, 'blue': 0, 'green': 0}}}], [{'userEnteredFormat': {'backgroundColor': {'red': 0, 'blue': 0, 'green': 0}}}, {'userEnteredFormat': {'backgroundColor': {'red': 0, 'blue': 0, 'green': 0}}}, {'userEnteredFormat': {'backgroundColor': {'red': 0, 'blue': 0, 'green': 0}}}, {'userEnteredFormat': {'backgroundColor': {'red': 0, 'blue': 0, 'green': 0}}}, {'userEnteredFormat': {'backgroundColor': {'red': 0, 'blue': 0, 'green': 0}}}, {'userEnteredFormat': {'backgroundColor': {'red': 0, 'blue': 0, 'green': 0}}}, {'userEnteredFormat': {'backgroundColor': {'red': 0, 'blue': 0, 'green': 0}}}], [{'userEnteredFormat': {'backgroundColor': {'red': 0, 'blue': 0, 'green': 0}}}, {'userEnteredFormat': {'backgroundColor': {'red': 0, 'blue': 0, 'green': 0}}}, {'userEnteredFormat': {'backgroundColor': {'red': 0, 'blue': 0, 'green': 0}}}, {'userEnteredFormat': {'backgroundColor': {'red': 0, 'blue': 0, 'green': 0}}}, {'userEnteredFormat': {'backgroundColor': {'red': 0, 'blue': 0, 'green': 0}}}, {'userEnteredFormat': {'backgroundColor': {'red': 0, 'blue': 0, 'green': 0}}}, {'userEnteredFormat': {'backgroundColor': {'red': 0, 'blue': 0, 'green': 0}}}], [{'userEnteredFormat': {'backgroundColor': {'red': 0, 'blue': 0, 'green': 0}}}, {'userEnteredFormat': {'backgroundColor': {'red': 0, 'blue': 0, 'green': 0}}}, {'userEnteredFormat': {'backgroundColor': {'red': 0, 'blue': 0, 'green': 0}}}, {'userEnteredFormat': {'backgroundColor': {'red': 0, 'blue': 0, 'green': 0}}}, {'userEnteredFormat': {'backgroundColor': {'red': 0, 'blue': 0, 'green': 0}}}, {'userEnteredFormat': {'backgroundColor': {'red': 0, 'blue': 0, 'green': 0}}}, {'userEnteredFormat': {'backgroundColor': {'red': 0, 'blue': 0, 'green': 0}}}], [{'userEnteredFormat': {'backgroundColor': {'red': 0, 'blue': 0, 'green': 0}}}, {'userEnteredFormat': {'backgroundColor': {'red': 0, 'blue': 0, 'green': 0}}}, {'userEnteredFormat': {'backgroundColor': {'red': 0, 'blue': 0, 'green': 0}}}, {'userEnteredFormat': {'backgroundColor': {'red': 0, 'blue': 0, 'green': 0}}}, {'userEnteredFormat': {'backgroundColor': {'red': 0, 'blue': 0, 'green': 0}}}, {'userEnteredFormat': {'backgroundColor': {'red': 0, 'blue': 0, 'green': 0}}}, {'userEnteredFormat': {'backgroundColor': {'red': 0, 'blue': 0, 'green': 0}}}], [{'userEnteredFormat': {'backgroundColor': {'red': 0, 'blue': 0, 'green': 0}}}, {'userEnteredFormat': {'backgroundColor': {'red': 0, 'blue': 0, 'green': 0}}}, {'userEnteredFormat': {'backgroundColor': {'red': 0, 'blue': 0, 'green': 0}}}, {'userEnteredFormat': {'backgroundColor': {'red': 0, 'blue': 0, 'green': 0}}}, {'userEnteredFormat': {'backgroundColor': {'red': 0, 'blue': 0, 'green': 0}}}, {'userEnteredFormat': {'backgroundColor': {'red': 0, 'blue': 0, 'green': 0}}}, {'userEnteredFormat': {'backgroundColor': {'red': 0, 'blue': 0, 'green': 0}}}], [{'userEnteredFormat': {'backgroundColor': {'red': 0, 'blue': 0, 'green': 0}}}, {'userEnteredFormat': {'backgroundColor': {'red': 0, 'blue': 0, 'green': 0}}}, {'userEnteredFormat': {'backgroundColor': {'red': 0, 'blue': 0, 'green': 0}}}, {'userEnteredFormat': {'backgroundColor': {'red': 0, 'blue': 0, 'green': 0}}}, {'userEnteredFormat': {'backgroundColor': {'red': 0, 'blue': 0, 'green': 0}}}, {'userEnteredFormat': {'backgroundColor': {'red': 0, 'blue': 0, 'green': 0}}}, {'userEnteredFormat': {'backgroundColor': {'red': 0, 'blue': 0, 'green': 0}}}]]\n"
     ]
    }
   ],
   "source": [
    "month = Month(names, tasks, sheet_id, sheet_name, editors)\n",
    "new_request, new_full = month.add_week()\n",
    "print(new_full)"
   ]
  },
  {
   "cell_type": "code",
   "execution_count": null,
   "metadata": {},
   "outputs": [],
   "source": []
  }
 ],
 "metadata": {
  "kernelspec": {
   "display_name": "Python 3",
   "language": "python",
   "name": "python3"
  },
  "language_info": {
   "codemirror_mode": {
    "name": "ipython",
    "version": 3
   },
   "file_extension": ".py",
   "mimetype": "text/x-python",
   "name": "python",
   "nbconvert_exporter": "python",
   "pygments_lexer": "ipython3",
   "version": "3.6.5"
  }
 },
 "nbformat": 4,
 "nbformat_minor": 2
}
