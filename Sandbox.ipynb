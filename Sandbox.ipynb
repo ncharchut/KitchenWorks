{
 "cells": [
  {
   "cell_type": "code",
   "execution_count": 1,
   "metadata": {},
   "outputs": [],
   "source": [
    "from gsheets_time import Month, Week, Day, DayTask\n",
    "from task import TaskManager"
   ]
  },
  {
   "cell_type": "code",
   "execution_count": 2,
   "metadata": {},
   "outputs": [],
   "source": [
    "names = \"names.csv\"\n",
    "tasks = \"tasks.csv\"\n",
    "editors = [\"Nicholas Charchut\", \"Connor Sweeney\"]\n",
    "sheet_id = \"abc123\""
   ]
  },
  {
   "cell_type": "code",
   "execution_count": 3,
   "metadata": {},
   "outputs": [
    {
     "name": "stdout",
     "output_type": "stream",
     "text": [
      "All tasks added.\n",
      "Not yet implemented\n"
     ]
    }
   ],
   "source": [
    "month = Month(names, tasks, sheet_id, editors)\n",
    "new_request = month.add_week()\n",
    "print(new_request)"
   ]
  },
  {
   "cell_type": "code",
   "execution_count": 4,
   "metadata": {},
   "outputs": [],
   "source": [
    "lock_monday = month[0].lock_day()"
   ]
  },
  {
   "cell_type": "code",
   "execution_count": 5,
   "metadata": {
    "scrolled": true
   },
   "outputs": [
    {
     "data": {
      "text/plain": [
       "[{'addProtectedRange': {'protectedRange': {'editors': {'users': ['Nicholas Charchut',\n",
       "      'Connor Sweeney']},\n",
       "    'range': {'endColumnIndex': 1,\n",
       "     'endRowIndex': 1,\n",
       "     'sheetId': 'abc123',\n",
       "     'startColumnIndex': 0,\n",
       "     'startRowIndex': 0},\n",
       "    'warningOnly': False}}},\n",
       " {'addProtectedRange': {'protectedRange': {'editors': {'users': ['Nicholas Charchut',\n",
       "      'Connor Sweeney']},\n",
       "    'range': {'endColumnIndex': 1,\n",
       "     'endRowIndex': 2,\n",
       "     'sheetId': 'abc123',\n",
       "     'startColumnIndex': 0,\n",
       "     'startRowIndex': 1},\n",
       "    'warningOnly': False}}},\n",
       " {'addProtectedRange': {'protectedRange': {'editors': {'users': ['Nicholas Charchut',\n",
       "      'Connor Sweeney']},\n",
       "    'range': {'endColumnIndex': 1,\n",
       "     'endRowIndex': 3,\n",
       "     'sheetId': 'abc123',\n",
       "     'startColumnIndex': 0,\n",
       "     'startRowIndex': 2},\n",
       "    'warningOnly': False}}},\n",
       " {'addProtectedRange': {'protectedRange': {'editors': {'users': ['Nicholas Charchut',\n",
       "      'Connor Sweeney']},\n",
       "    'range': {'endColumnIndex': 1,\n",
       "     'endRowIndex': 4,\n",
       "     'sheetId': 'abc123',\n",
       "     'startColumnIndex': 0,\n",
       "     'startRowIndex': 3},\n",
       "    'warningOnly': False}}},\n",
       " {'addProtectedRange': {'protectedRange': {'editors': {'users': ['Nicholas Charchut',\n",
       "      'Connor Sweeney']},\n",
       "    'range': {'endColumnIndex': 1,\n",
       "     'endRowIndex': 5,\n",
       "     'sheetId': 'abc123',\n",
       "     'startColumnIndex': 0,\n",
       "     'startRowIndex': 4},\n",
       "    'warningOnly': False}}},\n",
       " {'addProtectedRange': {'protectedRange': {'editors': {'users': ['Nicholas Charchut',\n",
       "      'Connor Sweeney']},\n",
       "    'range': {'endColumnIndex': 1,\n",
       "     'endRowIndex': 6,\n",
       "     'sheetId': 'abc123',\n",
       "     'startColumnIndex': 0,\n",
       "     'startRowIndex': 5},\n",
       "    'warningOnly': False}}},\n",
       " {'addProtectedRange': {'protectedRange': {'editors': {'users': ['Nicholas Charchut',\n",
       "      'Connor Sweeney']},\n",
       "    'range': {'endColumnIndex': 1,\n",
       "     'endRowIndex': 7,\n",
       "     'sheetId': 'abc123',\n",
       "     'startColumnIndex': 0,\n",
       "     'startRowIndex': 6},\n",
       "    'warningOnly': False}}}]"
      ]
     },
     "execution_count": 5,
     "metadata": {},
     "output_type": "execute_result"
    }
   ],
   "source": [
    "lock_monday"
   ]
  },
  {
   "cell_type": "code",
   "execution_count": null,
   "metadata": {},
   "outputs": [],
   "source": []
  }
 ],
 "metadata": {
  "kernelspec": {
   "display_name": "Python 3",
   "language": "python",
   "name": "python3"
  },
  "language_info": {
   "codemirror_mode": {
    "name": "ipython",
    "version": 3
   },
   "file_extension": ".py",
   "mimetype": "text/x-python",
   "name": "python",
   "nbconvert_exporter": "python",
   "pygments_lexer": "ipython3",
   "version": "3.6.5"
  }
 },
 "nbformat": 4,
 "nbformat_minor": 2
}
